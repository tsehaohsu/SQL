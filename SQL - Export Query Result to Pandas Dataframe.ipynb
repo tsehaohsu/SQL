{
 "cells": [
  {
   "cell_type": "markdown",
   "id": "76832277",
   "metadata": {},
   "source": [
    "**Step 1 - Install Package - sqlite3**"
   ]
  },
  {
   "cell_type": "code",
   "execution_count": 1,
   "id": "3eb5d750",
   "metadata": {},
   "outputs": [],
   "source": [
    "#!pip install pysqlite3"
   ]
  },
  {
   "cell_type": "code",
   "execution_count": 2,
   "id": "72b6c751",
   "metadata": {},
   "outputs": [],
   "source": [
    "import sqlite3\n",
    "import pandas as pd"
   ]
  },
  {
   "cell_type": "markdown",
   "id": "d32d7425",
   "metadata": {},
   "source": [
    "**Step 2 - Create Tables**"
   ]
  },
  {
   "cell_type": "code",
   "execution_count": 4,
   "id": "76980ee5",
   "metadata": {},
   "outputs": [
    {
     "name": "stdout",
     "output_type": "stream",
     "text": [
      "('Tommy', '4th', 'A')\n",
      "('Jenny', '5th', 'B')\n",
      "('Ada', '6th', 'C')\n"
     ]
    }
   ],
   "source": [
    "# Connecting to sqlite\n",
    "conn = sqlite3.connect('mydatabase')\n",
    "\n",
    "# Drop table if exists\n",
    "conn.execute(\"DROP TABLE IF EXISTS student\")\n",
    "\n",
    "# Create cursor\n",
    "cursor = conn.cursor()\n",
    "  \n",
    "# Creating table\n",
    "table =\"\"\"CREATE TABLE Student (name VARCHAR(255), class VARCHAR(255), section VARCHAR(255));\"\"\"\n",
    "cursor.execute(table)\n",
    "  \n",
    "# Queries to INSERT records.\n",
    "cursor.execute('''INSERT INTO Student VALUES ('Tommy', '4th', 'A')''')\n",
    "cursor.execute('''INSERT INTO Student VALUES ('Jenny', '5th', 'B')''')\n",
    "cursor.execute('''INSERT INTO Student VALUES ('Ada', '6th', 'C')''')\n",
    "  \n",
    "# Display data inserted\n",
    "data=cursor.execute('''SELECT * FROM Student''')\n",
    "for row in data:\n",
    "    print(row)\n",
    "    \n",
    "# Commit your changes in the database    \n",
    "conn.commit()\n",
    "  \n",
    "# Closing the connection\n",
    "conn.close()"
   ]
  },
  {
   "cell_type": "markdown",
   "id": "9a5cb14e",
   "metadata": {},
   "source": [
    "**Step 3 - Export to Pandans Dataframe**"
   ]
  },
  {
   "cell_type": "code",
   "execution_count": 5,
   "id": "84a7e78a",
   "metadata": {},
   "outputs": [
    {
     "data": {
      "text/html": [
       "<div>\n",
       "<style scoped>\n",
       "    .dataframe tbody tr th:only-of-type {\n",
       "        vertical-align: middle;\n",
       "    }\n",
       "\n",
       "    .dataframe tbody tr th {\n",
       "        vertical-align: top;\n",
       "    }\n",
       "\n",
       "    .dataframe thead th {\n",
       "        text-align: right;\n",
       "    }\n",
       "</style>\n",
       "<table border=\"1\" class=\"dataframe\">\n",
       "  <thead>\n",
       "    <tr style=\"text-align: right;\">\n",
       "      <th></th>\n",
       "      <th>NAME</th>\n",
       "      <th>CLASS</th>\n",
       "      <th>SECTION</th>\n",
       "    </tr>\n",
       "  </thead>\n",
       "  <tbody>\n",
       "    <tr>\n",
       "      <th>0</th>\n",
       "      <td>Tommy</td>\n",
       "      <td>4th</td>\n",
       "      <td>A</td>\n",
       "    </tr>\n",
       "    <tr>\n",
       "      <th>1</th>\n",
       "      <td>Jenny</td>\n",
       "      <td>5th</td>\n",
       "      <td>B</td>\n",
       "    </tr>\n",
       "    <tr>\n",
       "      <th>2</th>\n",
       "      <td>Ada</td>\n",
       "      <td>6th</td>\n",
       "      <td>C</td>\n",
       "    </tr>\n",
       "  </tbody>\n",
       "</table>\n",
       "</div>"
      ],
      "text/plain": [
       "    NAME CLASS SECTION\n",
       "0  Tommy   4th       A\n",
       "1  Jenny   5th       B\n",
       "2    Ada   6th       C"
      ]
     },
     "execution_count": 5,
     "metadata": {},
     "output_type": "execute_result"
    }
   ],
   "source": [
    "# Convert to Pandas\n",
    "conn = sqlite3.connect('mydatabase') \n",
    "c = conn.cursor()\n",
    "                 \n",
    "c.execute(''' SELECT *FROM STUDENT''')\n",
    "\n",
    "df = pd.DataFrame(c.fetchall(), columns = ['NAME', 'CLASS', 'SECTION'])\n",
    "df"
   ]
  }
 ],
 "metadata": {
  "kernelspec": {
   "display_name": "Python 3",
   "language": "python",
   "name": "python3"
  },
  "language_info": {
   "codemirror_mode": {
    "name": "ipython",
    "version": 3
   },
   "file_extension": ".py",
   "mimetype": "text/x-python",
   "name": "python",
   "nbconvert_exporter": "python",
   "pygments_lexer": "ipython3",
   "version": "3.8.8"
  }
 },
 "nbformat": 4,
 "nbformat_minor": 5
}
